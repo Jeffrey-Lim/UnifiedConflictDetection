{
 "cells": [
  {
   "cell_type": "markdown",
   "metadata": {},
   "source": [
    "## This notebook is used to evaluate the trained models"
   ]
  },
  {
   "cell_type": "code",
   "execution_count": null,
   "metadata": {},
   "outputs": [],
   "source": [
    "import numpy as np\n",
    "import pandas as pd\n",
    "from matplotlib import pyplot as plt\n",
    "import matplotlib as mpl\n",
    "font = {'family' : 'Arial',\n",
    "        'size'   : 9}\n",
    "plt.rc('font', **font)\n",
    "plt.rcParams['mathtext.fontset'] = 'stix'#'dejavuserif'\n",
    "\n",
    "def to_grayscale(fig):\n",
    "    fig.canvas.draw()\n",
    "    img = np.array(fig.canvas.renderer.buffer_rgba())\n",
    "    grayscale_img = np.dot(img[..., :3], [0.2989, 0.5870, 0.1140])\n",
    "    fig_gray, ax_gray = plt.subplots(figsize=(fig.get_size_inches()), dpi=fig.dpi)\n",
    "    ax_gray.imshow(grayscale_img, cmap=plt.get_cmap('gray'), vmin=0, vmax=255)\n",
    "    ax_gray.axis('off')  # Turn off the axis\n",
    "    ax_gray.set_title('Grayscale plot')\n",
    "\n",
    "path_output = '../Data/OutputData/trained_models/highD_LC/'\n",
    "fig_path = r'C:/SURFdrive/PhD progress/PhDResearch/4_Conflict/AMAR/Figures/'\n",
    "\n",
    "manualSeed = 131\n",
    "np.random.seed(manualSeed)"
   ]
  },
  {
   "cell_type": "markdown",
   "metadata": {},
   "source": [
    "### Plotting training progress"
   ]
  },
  {
   "cell_type": "code",
   "execution_count": null,
   "metadata": {},
   "outputs": [],
   "source": [
    "fig, axes = plt.subplots(1,7,figsize=(7.5,1.5),constrained_layout=True,gridspec_kw={'width_ratios': [1,0.05,1,1,0.05,1,1]})\n",
    "cmap = mpl.cm.plasma\n",
    "for ax in [axes[1],axes[4]]:\n",
    "    ax.axis('off')\n",
    "\n",
    "num_batch = 271 # 271 batches per epoch\n",
    "axes[0].set_title('Decrease on the training set', fontsize=9, pad=4)\n",
    "# axes[0].set_xlabel('Per '+str(num_batch)+' batches', fontsize=9, labelpad=1)\n",
    "axes[0].set_xlabel('Epoch', fontsize=9, labelpad=1)\n",
    "axes[0].set_ylabel('Loss', fontsize=9, labelpad=0)\n",
    "for idx_col, beta, color in zip(range(2),['5','10'],[cmap(0.),cmap(0.6)]):\n",
    "    loss_records = pd.read_csv(path_output+f'beta={beta}/loss_records.csv').values.reshape(-1)\n",
    "    loss_records = loss_records[loss_records>0][271:]\n",
    "    loss_records = loss_records[:num_batch*(len(loss_records)//num_batch)].reshape(-1,num_batch)\n",
    "    loss = loss_records.mean(axis=1)\n",
    "    axes[0].plot(loss, color=color, label=r'$\\beta=$'+beta, lw=1, ls=':')\n",
    "axes[0].legend(frameon=False, loc='upper right')\n",
    "\n",
    "minimals = []\n",
    "axes[2].set_ylabel('Loss', fontsize=9, labelpad=0)\n",
    "axes[2].set_ylim(0.795,0.823)\n",
    "axes[3].set_ylim(0.795,0.823)\n",
    "axes[5].set_ylabel('NLL', fontsize=9, labelpad=0)\n",
    "axes[5].set_ylim(1570, 1630)\n",
    "axes[6].set_ylim(1570, 1630)\n",
    "for axid in [2,5]:\n",
    "    axes[axid].set_title(r'$\\beta=5$', fontsize=9, pad=3)\n",
    "    axes[axid+1].set_title(r'$\\beta=10$', fontsize=9, pad=3)\n",
    "for axid, beta, color in zip([2,3],['5','10'],[cmap(0.),cmap(0.6)]):\n",
    "    evaluation = pd.read_csv(path_output+f'beta={beta}/evaluation.csv')\n",
    "    evaluation = evaluation.iloc[25:]\n",
    "    for plus, metric in zip([0, 3],['_loss', '_nll']):\n",
    "        for dataset, ls, marker in zip(['train','val','test'], [':', '--', '-'], ['x', '^', 'o']):\n",
    "            axes[axid+plus].plot(evaluation['epoch'], evaluation[dataset+metric], label=dataset, color=color, lw=0.6, ls=ls)\n",
    "            minimal = evaluation.loc[evaluation[dataset+metric].sort_values().index[:1]].copy()\n",
    "            minimal['dataset'] = dataset\n",
    "            minimal['beta'] = beta\n",
    "            minimals.append(minimal[['dataset','beta','epoch','train_loss','val_loss','test_loss','train_nll','val_nll','test_nll']])\n",
    "            if marker=='x':\n",
    "                axes[axid+plus].scatter(minimal['epoch'], minimal[dataset+metric], marker=marker,\n",
    "                                        color=color, s=10, lw=1, label=dataset)\n",
    "            else:\n",
    "                axes[axid+plus].scatter(minimal['epoch'], minimal[dataset+metric], marker=marker,\n",
    "                                        ec=color, fc='none', s=10, lw=1, label=dataset)\n",
    "\n",
    "for ax, loc in zip(axes[[2,3,5,6]],['upper right','lower left','upper right','lower left']):\n",
    "    ax.set_xlabel('Epoch', fontsize=9, labelpad=1)\n",
    "    handles, labels = ax.get_legend_handles_labels()\n",
    "    ax.legend([(handles[0], handles[1]), (handles[2], handles[3]), (handles[4], handles[5])],\n",
    "              ['Train', 'Val', 'Test'], ncol=1,\n",
    "              loc=loc, frameon=False, handletextpad=0.5, fontsize=8, borderaxespad=0.1, labelspacing=0.1, handlelength=1.5, handleheight=0.5)\n",
    "minimals = pd.concat(minimals).reset_index(drop=True)\n",
    "\n",
    "for ax in [axes[2],axes[3],axes[5],axes[6]]:\n",
    "    ax.set_xlim([28,62])\n",
    "    ax.set_xticks([30,40,50,60])\n",
    "\n",
    "to_grayscale(fig)"
   ]
  },
  {
   "cell_type": "code",
   "execution_count": null,
   "metadata": {},
   "outputs": [],
   "source": [
    "fig.savefig(fig_path+'model_evaluation.pdf', bbox_inches='tight', dpi=600)"
   ]
  },
  {
   "cell_type": "markdown",
   "metadata": {},
   "source": [
    "### Model selection"
   ]
  },
  {
   "cell_type": "code",
   "execution_count": null,
   "metadata": {},
   "outputs": [],
   "source": [
    "minimals[(minimals['dataset']=='test')].drop_duplicates()\n",
    "# select beta==5 and epoch==52"
   ]
  },
  {
   "cell_type": "code",
   "execution_count": null,
   "metadata": {},
   "outputs": [],
   "source": []
  }
 ],
 "metadata": {
  "kernelspec": {
   "display_name": "pytorch",
   "language": "python",
   "name": "python3"
  },
  "language_info": {
   "codemirror_mode": {
    "name": "ipython",
    "version": 3
   },
   "file_extension": ".py",
   "mimetype": "text/x-python",
   "name": "python",
   "nbconvert_exporter": "python",
   "pygments_lexer": "ipython3",
   "version": "3.12.2"
  }
 },
 "nbformat": 4,
 "nbformat_minor": 2
}
