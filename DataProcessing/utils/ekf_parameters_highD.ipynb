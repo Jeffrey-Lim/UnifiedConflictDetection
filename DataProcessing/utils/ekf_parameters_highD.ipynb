{
 "cells": [
  {
   "cell_type": "markdown",
   "metadata": {},
   "source": [
    "This notebook is used to determine the optimal parameters that minimise the kalman filtering error for highD data."
   ]
  },
  {
   "cell_type": "code",
   "execution_count": null,
   "metadata": {},
   "outputs": [],
   "source": [
    "import glob\n",
    "from tqdm.notebook import tqdm\n",
    "import numpy as np\n",
    "import pandas as pd\n",
    "from scipy.optimize import minimize, differential_evolution\n",
    "from joblib import Parallel, delayed\n",
    "import get_heading_ekf\n",
    "import matplotlib.pyplot as plt\n",
    "from IPython.display import clear_output, display\n",
    "import time as systime\n",
    "\n",
    "manualSeed = 131\n",
    "np.random.seed(manualSeed)\n",
    "\n",
    "path_raw = '../../Data/RawData/'"
   ]
  },
  {
   "cell_type": "code",
   "execution_count": null,
   "metadata": {},
   "outputs": [],
   "source": [
    "# Extract meta information\n",
    "metadatafiles =  sorted(glob.glob(path_raw + 'highD/RecordingMetadata/*.csv'))\n",
    "metadata = []\n",
    "for metadatafile in metadatafiles:\n",
    "    df = pd.read_csv(metadatafile)\n",
    "    metadata.append(df)\n",
    "metadata = pd.concat(metadata)\n",
    "metadata['lane_num'] = metadata.lowerLaneMarkings.str.len()//5\n",
    "metadata['numFrames'] = (metadata['frameRate']*metadata['duration']).astype(int)\n",
    "\n",
    "print(metadata.groupby('locationId').agg({'numCars':'sum','numTrucks':'sum'}))\n",
    "trackid_base = 10**len(str(int(metadata['numCars'].max())))\n",
    "frameid_base = 10**len(str(int(metadata['numFrames'].max())))"
   ]
  },
  {
   "cell_type": "code",
   "execution_count": null,
   "metadata": {},
   "outputs": [],
   "source": [
    "data_train = []\n",
    "data_test = []\n",
    "for locid in tqdm(metadata.locationId.unique()):\n",
    "    loc = 'highD_' + str(locid).zfill(2)\n",
    "    data = []\n",
    "    for fileid in metadata[(metadata.locationId==locid)]['id'].values:\n",
    "        df = pd.read_csv(path_raw + 'highD/' + str(fileid).zfill(2) + '_tracks.csv')\n",
    "        df = df.rename(columns={'frame':'frame_id',\n",
    "                                'id':'track_id',\n",
    "                                'xVelocity':'vx',\n",
    "                                'yVelocity':'vy',\n",
    "                                'width':'length',\n",
    "                                'height':'width'})\n",
    "        df = df[['track_id','frame_id','x','y','vx','vy','width','length',\n",
    "                 'laneId','precedingId','followingId']]\n",
    "        df['x'] = df['x'] + df['length']/2\n",
    "        df['y'] = df['y'] + df['width']/2\n",
    "        df['loc_id'] = locid\n",
    "        df['file_id'] = fileid\n",
    "        df['track_id'] = df['loc_id'].astype(str)+'-'+df['file_id'].astype(str)+'-'+df['track_id'].astype(str)\n",
    "        data.append(df)\n",
    "    data = pd.concat(data)\n",
    "    indices = np.random.choice(data['track_id'].unique(),100,replace=False)\n",
    "    df_train = data[data['track_id'].isin(indices[:50])].copy()\n",
    "    df_test = data[data['track_id'].isin(indices[50:])].copy()\n",
    "    data_train.append(df_train)\n",
    "    data_test.append(df_test)\n",
    "data_train = pd.concat(data_train)\n",
    "data_test = pd.concat(data_test)"
   ]
  },
  {
   "cell_type": "code",
   "execution_count": null,
   "metadata": {},
   "outputs": [],
   "source": [
    "def optimise_ekf_params(data, track_id):\n",
    "    res = minimize(get_heading_ekf.ekf, x0=[100., 5., 5., 4.5, 2., 50.],\n",
    "                   args=(data.set_index('track_id'), track_id, True),\n",
    "                   bounds=((1., 200.), (0.01, 50.), (0.01, 50.), (3., 15.), (0.01, 2.5), (25., 65.)),\n",
    "                   method='L-BFGS-B')\n",
    "    if res.success:\n",
    "        return res.x, res.fun\n",
    "    else:\n",
    "        return np.zeros(6)*np.nan, np.nan\n",
    "\n",
    "train_parameters = Parallel(n_jobs=4)(delayed(optimise_ekf_params)(data_train, track_id) for track_id in tqdm(data_train.track_id.unique()))\n",
    "parameters = np.array([x[0] for x in train_parameters])\n",
    "loss_values = np.array([x[1] for x in train_parameters])\n",
    "train_results = pd.DataFrame(parameters, columns=['uncertainty_init','uncertainty_pos','uncertainty_speed','noise_acc','noise_rad','noise_speed'])\n",
    "train_results['loss'] = loss_values"
   ]
  },
  {
   "cell_type": "code",
   "execution_count": null,
   "metadata": {},
   "outputs": [],
   "source": [
    "train_results.hist(bins=20, figsize=(9,5.5))\n",
    "print(np.round(train_results.median(),4))"
   ]
  },
  {
   "cell_type": "code",
   "execution_count": null,
   "metadata": {},
   "outputs": [],
   "source": [
    "fig, axes = plt.subplots(1, 2, figsize=(8,2), sharex=True)\n",
    "for i, params in zip(range(2),[np.array([100.2683, 0.01, 0.01, 11.1333, 2.5, 52.4380]), np.array([100., 5., 5., 4.5, 2., 50.])]):\n",
    "    test_loss_values = Parallel(n_jobs=4)(delayed(get_heading_ekf.ekf)(params, data_test.set_index('track_id'), track_id, True) for track_id in tqdm(data_test['track_id'].unique()))\n",
    "    test_loss_values = np.array(test_loss_values)\n",
    "    axes[i].hist(test_loss_values, bins=20)\n",
    "    axes[i].set_xlabel('Loss')\n",
    "    axes[i].set_title('Trained parameters' if i==0 else 'Default parameters')\n",
    "    axes[i].text(0.75, 0.9, 'Mean loss: {:.4f}'.format(test_loss_values.mean()), horizontalalignment='center', verticalalignment='center', transform=axes[i].transAxes)"
   ]
  },
  {
   "cell_type": "code",
   "execution_count": null,
   "metadata": {},
   "outputs": [],
   "source": []
  }
 ],
 "metadata": {
  "kernelspec": {
   "display_name": "conflict",
   "language": "python",
   "name": "python3"
  },
  "language_info": {
   "codemirror_mode": {
    "name": "ipython",
    "version": 3
   },
   "file_extension": ".py",
   "mimetype": "text/x-python",
   "name": "python",
   "nbconvert_exporter": "python",
   "pygments_lexer": "ipython3",
   "version": "3.12.2"
  }
 },
 "nbformat": 4,
 "nbformat_minor": 2
}
