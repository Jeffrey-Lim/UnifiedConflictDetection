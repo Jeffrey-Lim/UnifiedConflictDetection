{
 "cells": [
  {
   "cell_type": "markdown",
   "metadata": {},
   "source": [
    "**This notebook offers examples to directly use the trained model to assess traffic conflicts between two vehicles.**\n",
    "\n",
    "The evaluation is performed for each frame in real-time.\n",
    "\n",
    "At every frame, the models takes states of the two vehicles in a local view of the ego vehicle,\n",
    "and either \n",
    " 1. estimates the probability of a conflict at a certain intensity level, or\n",
    " 2. evaluates the maximum possible intensity level of a conflict.\n",
    "\n",
    "*Note: the model currently considers limited information for methodology demonstration purposes. You may consider training a more sophisticated model, or following up with the authors for future updates."
   ]
  },
  {
   "cell_type": "code",
   "execution_count": null,
   "metadata": {},
   "outputs": [],
   "source": [
    "from unified_conflit_detection import *"
   ]
  },
  {
   "cell_type": "code",
   "execution_count": null,
   "metadata": {},
   "outputs": [],
   "source": [
    "# Required states in a local view of the ego vehicle\n",
    "# The local coordinate system should have the origin at the ego vehicle's center,\n",
    "# and the y-axis should point to the heading direction of the ego vehicle.\n",
    "x_j, y_j = 3.5, -45.\n",
    "vy_i = 15.\n",
    "vx_j, vy_j = 0.5, 25.\n",
    "hx_j, hy_j = 0., 1.\n",
    "length_i, length_j = 4.5, 6.2\n",
    "acc_i = 1.5"
   ]
  },
  {
   "cell_type": "code",
   "execution_count": null,
   "metadata": {},
   "outputs": [],
   "source": [
    "# conflict probability under a intensity level of 25\n",
    "# 25 means this conflict is expected to be observed once per 25 times of the same interaction\n",
    "assess_conflict([x_j, y_j, vy_i, vx_j, vy_j, hx_j, hy_j, length_i, length_j, acc_i], \n",
    "                coordinate_orentation='upwards',\n",
    "                output='probability') # n is by default 25 in the function"
   ]
  },
  {
   "cell_type": "code",
   "execution_count": null,
   "metadata": {},
   "outputs": [],
   "source": [
    "assess_conflict([x_j, y_j, vy_i, vx_j, vy_j, hx_j, hy_j, length_i, length_j, acc_i], \n",
    "                coordinate_orentation='upwards',\n",
    "                output='probability', n=5) # n is set to 100"
   ]
  },
  {
   "cell_type": "code",
   "execution_count": null,
   "metadata": {},
   "outputs": [],
   "source": [
    "# maximum possible conflict intensity \n",
    "# assuming the probability is 0.5, i.e., the probability of a conflict is not smaller than no conflict\n",
    "assess_conflict([x_j, y_j, vy_i, vx_j, vy_j, hx_j, hy_j, length_i, length_j, acc_i], \n",
    "                coordinate_orentation='upwards',\n",
    "                output='intensity')"
   ]
  },
  {
   "cell_type": "code",
   "execution_count": null,
   "metadata": {},
   "outputs": [],
   "source": [
    "# return both the probability and maximum possible intensity\n",
    "assess_conflict([x_j, y_j, vy_i, vx_j, vy_j, hx_j, hy_j, length_i, length_j, acc_i], \n",
    "                coordinate_orentation='upwards',\n",
    "                output='both', n=100)"
   ]
  },
  {
   "cell_type": "code",
   "execution_count": null,
   "metadata": {},
   "outputs": [],
   "source": []
  }
 ],
 "metadata": {
  "kernelspec": {
   "display_name": "pytorch312",
   "language": "python",
   "name": "python3"
  },
  "language_info": {
   "codemirror_mode": {
    "name": "ipython",
    "version": 3
   },
   "file_extension": ".py",
   "mimetype": "text/x-python",
   "name": "python",
   "nbconvert_exporter": "python",
   "pygments_lexer": "ipython3",
   "version": "3.12.2"
  }
 },
 "nbformat": 4,
 "nbformat_minor": 2
}
